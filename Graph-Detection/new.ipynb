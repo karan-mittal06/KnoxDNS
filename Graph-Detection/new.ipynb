{
 "cells": [
  {
   "cell_type": "markdown",
   "metadata": {},
   "source": [
    "Imorting the required libraries:"
   ]
  },
  {
   "cell_type": "code",
   "execution_count": 1,
   "metadata": {},
   "outputs": [],
   "source": [
    "import numpy as np\n",
    "import pandas as pd\n",
    "import matplotlib.pyplot as plt\n",
    "from sklearn.model_selection import train_test_split"
   ]
  },
  {
   "cell_type": "markdown",
   "metadata": {},
   "source": [
    "Analyzing the dataset:"
   ]
  },
  {
   "cell_type": "code",
   "execution_count": 2,
   "metadata": {},
   "outputs": [],
   "source": [
    "dataset = pd.read_csv('dataset.csv')"
   ]
  },
  {
   "cell_type": "code",
   "execution_count": 3,
   "metadata": {},
   "outputs": [
    {
     "data": {
      "text/plain": [
       "(2836096, 3)"
      ]
     },
     "execution_count": 3,
     "metadata": {},
     "output_type": "execute_result"
    }
   ],
   "source": [
    "dataset.shape"
   ]
  },
  {
   "cell_type": "code",
   "execution_count": 4,
   "metadata": {},
   "outputs": [
    {
     "data": {
      "text/html": [
       "<div>\n",
       "<style scoped>\n",
       "    .dataframe tbody tr th:only-of-type {\n",
       "        vertical-align: middle;\n",
       "    }\n",
       "\n",
       "    .dataframe tbody tr th {\n",
       "        vertical-align: top;\n",
       "    }\n",
       "\n",
       "    .dataframe thead th {\n",
       "        text-align: right;\n",
       "    }\n",
       "</style>\n",
       "<table border=\"1\" class=\"dataframe\">\n",
       "  <thead>\n",
       "    <tr style=\"text-align: right;\">\n",
       "      <th></th>\n",
       "      <th>Unnamed: 0</th>\n",
       "      <th>url</th>\n",
       "      <th>label</th>\n",
       "    </tr>\n",
       "  </thead>\n",
       "  <tbody>\n",
       "    <tr>\n",
       "      <th>0</th>\n",
       "      <td>0</td>\n",
       "      <td>diaryofagameaddict.com</td>\n",
       "      <td>1</td>\n",
       "    </tr>\n",
       "    <tr>\n",
       "      <th>1</th>\n",
       "      <td>1</td>\n",
       "      <td>espdesign.com.au</td>\n",
       "      <td>1</td>\n",
       "    </tr>\n",
       "    <tr>\n",
       "      <th>2</th>\n",
       "      <td>2</td>\n",
       "      <td>iamagameaddict.com</td>\n",
       "      <td>1</td>\n",
       "    </tr>\n",
       "    <tr>\n",
       "      <th>3</th>\n",
       "      <td>3</td>\n",
       "      <td>kalantzis.net</td>\n",
       "      <td>1</td>\n",
       "    </tr>\n",
       "    <tr>\n",
       "      <th>4</th>\n",
       "      <td>4</td>\n",
       "      <td>slightlyoffcenter.net</td>\n",
       "      <td>1</td>\n",
       "    </tr>\n",
       "  </tbody>\n",
       "</table>\n",
       "</div>"
      ],
      "text/plain": [
       "   Unnamed: 0                     url  label\n",
       "0           0  diaryofagameaddict.com      1\n",
       "1           1        espdesign.com.au      1\n",
       "2           2      iamagameaddict.com      1\n",
       "3           3           kalantzis.net      1\n",
       "4           4   slightlyoffcenter.net      1"
      ]
     },
     "execution_count": 4,
     "metadata": {},
     "output_type": "execute_result"
    }
   ],
   "source": [
    "dataset.head()"
   ]
  },
  {
   "cell_type": "code",
   "execution_count": 5,
   "metadata": {},
   "outputs": [],
   "source": [
    "dataset.drop(['Unnamed: 0'], axis = 1, inplace = True)"
   ]
  },
  {
   "cell_type": "code",
   "execution_count": 6,
   "metadata": {},
   "outputs": [
    {
     "data": {
      "text/plain": [
       "(2836096, 2)"
      ]
     },
     "execution_count": 6,
     "metadata": {},
     "output_type": "execute_result"
    }
   ],
   "source": [
    "dataset.shape"
   ]
  },
  {
   "cell_type": "code",
   "execution_count": 33,
   "metadata": {},
   "outputs": [
    {
     "data": {
      "text/html": [
       "<div>\n",
       "<style scoped>\n",
       "    .dataframe tbody tr th:only-of-type {\n",
       "        vertical-align: middle;\n",
       "    }\n",
       "\n",
       "    .dataframe tbody tr th {\n",
       "        vertical-align: top;\n",
       "    }\n",
       "\n",
       "    .dataframe thead th {\n",
       "        text-align: right;\n",
       "    }\n",
       "</style>\n",
       "<table border=\"1\" class=\"dataframe\">\n",
       "  <thead>\n",
       "    <tr style=\"text-align: right;\">\n",
       "      <th></th>\n",
       "      <th>url</th>\n",
       "      <th>label</th>\n",
       "    </tr>\n",
       "  </thead>\n",
       "  <tbody>\n",
       "    <tr>\n",
       "      <th>2836091</th>\n",
       "      <td>http://ecct-it.com/docmmmnn/aptgd/index.php</td>\n",
       "      <td>1</td>\n",
       "    </tr>\n",
       "    <tr>\n",
       "      <th>2836092</th>\n",
       "      <td>http://faboleena.com/js/infortis/jquery/plugin...</td>\n",
       "      <td>1</td>\n",
       "    </tr>\n",
       "    <tr>\n",
       "      <th>2836093</th>\n",
       "      <td>http://faboleena.com/js/infortis/jquery/plugin...</td>\n",
       "      <td>1</td>\n",
       "    </tr>\n",
       "    <tr>\n",
       "      <th>2836094</th>\n",
       "      <td>http://atualizapj.com/</td>\n",
       "      <td>1</td>\n",
       "    </tr>\n",
       "    <tr>\n",
       "      <th>2836095</th>\n",
       "      <td>http://writeassociate.com/test/Portal/inicio/I...</td>\n",
       "      <td>1</td>\n",
       "    </tr>\n",
       "  </tbody>\n",
       "</table>\n",
       "</div>"
      ],
      "text/plain": [
       "                                                       url  label\n",
       "2836091        http://ecct-it.com/docmmmnn/aptgd/index.php      1\n",
       "2836092  http://faboleena.com/js/infortis/jquery/plugin...      1\n",
       "2836093  http://faboleena.com/js/infortis/jquery/plugin...      1\n",
       "2836094                             http://atualizapj.com/      1\n",
       "2836095  http://writeassociate.com/test/Portal/inicio/I...      1"
      ]
     },
     "execution_count": 33,
     "metadata": {},
     "output_type": "execute_result"
    }
   ],
   "source": [
    "dataset.tail()"
   ]
  },
  {
   "cell_type": "markdown",
   "metadata": {},
   "source": [
    "Note to self: 0 - stands for benign, 1 - stands for malicious"
   ]
  },
  {
   "cell_type": "code",
   "execution_count": 8,
   "metadata": {},
   "outputs": [],
   "source": [
    "oneL_dataset_train = dataset.sample(n = 100000, random_state = 42)"
   ]
  },
  {
   "cell_type": "code",
   "execution_count": 9,
   "metadata": {},
   "outputs": [],
   "source": [
    "oneL_dataset_train.to_csv('training_set.csv')"
   ]
  },
  {
   "cell_type": "code",
   "execution_count": 10,
   "metadata": {},
   "outputs": [],
   "source": [
    "dataset_remaining = dataset.drop(oneL_dataset_train.index)\n",
    "twentyfiveK_dataset_train = dataset_remaining.sample(n=25000, random_state=43)\n",
    "twentyfiveK_dataset_train.to_csv('test_set.csv')"
   ]
  },
  {
   "cell_type": "markdown",
   "metadata": {},
   "source": [
    "Viewing training_set and test_set:"
   ]
  },
  {
   "cell_type": "code",
   "execution_count": 11,
   "metadata": {},
   "outputs": [],
   "source": [
    "train = pd.read_csv('training_set.csv')\n",
    "test = pd.read_csv('test_set.csv')"
   ]
  },
  {
   "cell_type": "code",
   "execution_count": 12,
   "metadata": {},
   "outputs": [
    {
     "data": {
      "text/html": [
       "<div>\n",
       "<style scoped>\n",
       "    .dataframe tbody tr th:only-of-type {\n",
       "        vertical-align: middle;\n",
       "    }\n",
       "\n",
       "    .dataframe tbody tr th {\n",
       "        vertical-align: top;\n",
       "    }\n",
       "\n",
       "    .dataframe thead th {\n",
       "        text-align: right;\n",
       "    }\n",
       "</style>\n",
       "<table border=\"1\" class=\"dataframe\">\n",
       "  <thead>\n",
       "    <tr style=\"text-align: right;\">\n",
       "      <th></th>\n",
       "      <th>Unnamed: 0</th>\n",
       "      <th>url</th>\n",
       "      <th>label</th>\n",
       "    </tr>\n",
       "  </thead>\n",
       "  <tbody>\n",
       "    <tr>\n",
       "      <th>0</th>\n",
       "      <td>912962</td>\n",
       "      <td>tanecni-divadlo.cz</td>\n",
       "      <td>0</td>\n",
       "    </tr>\n",
       "    <tr>\n",
       "      <th>1</th>\n",
       "      <td>1204974</td>\n",
       "      <td>www1.rcn.ne.jp</td>\n",
       "      <td>0</td>\n",
       "    </tr>\n",
       "    <tr>\n",
       "      <th>2</th>\n",
       "      <td>1733851</td>\n",
       "      <td>freeadsciti.com</td>\n",
       "      <td>0</td>\n",
       "    </tr>\n",
       "    <tr>\n",
       "      <th>3</th>\n",
       "      <td>2734648</td>\n",
       "      <td>http://recoveryacct99002108.000webhostapp.com/...</td>\n",
       "      <td>1</td>\n",
       "    </tr>\n",
       "    <tr>\n",
       "      <th>4</th>\n",
       "      <td>1887894</td>\n",
       "      <td>baz-do.de</td>\n",
       "      <td>0</td>\n",
       "    </tr>\n",
       "  </tbody>\n",
       "</table>\n",
       "</div>"
      ],
      "text/plain": [
       "   Unnamed: 0                                                url  label\n",
       "0      912962                                 tanecni-divadlo.cz      0\n",
       "1     1204974                                     www1.rcn.ne.jp      0\n",
       "2     1733851                                    freeadsciti.com      0\n",
       "3     2734648  http://recoveryacct99002108.000webhostapp.com/...      1\n",
       "4     1887894                                          baz-do.de      0"
      ]
     },
     "execution_count": 12,
     "metadata": {},
     "output_type": "execute_result"
    }
   ],
   "source": [
    "train.head()"
   ]
  },
  {
   "cell_type": "code",
   "execution_count": 13,
   "metadata": {},
   "outputs": [
    {
     "data": {
      "text/html": [
       "<div>\n",
       "<style scoped>\n",
       "    .dataframe tbody tr th:only-of-type {\n",
       "        vertical-align: middle;\n",
       "    }\n",
       "\n",
       "    .dataframe tbody tr th {\n",
       "        vertical-align: top;\n",
       "    }\n",
       "\n",
       "    .dataframe thead th {\n",
       "        text-align: right;\n",
       "    }\n",
       "</style>\n",
       "<table border=\"1\" class=\"dataframe\">\n",
       "  <thead>\n",
       "    <tr style=\"text-align: right;\">\n",
       "      <th></th>\n",
       "      <th>Unnamed: 0</th>\n",
       "      <th>url</th>\n",
       "      <th>label</th>\n",
       "    </tr>\n",
       "  </thead>\n",
       "  <tbody>\n",
       "    <tr>\n",
       "      <th>0</th>\n",
       "      <td>2595198</td>\n",
       "      <td>https://www.hagen.com/uk/about.cfm</td>\n",
       "      <td>0</td>\n",
       "    </tr>\n",
       "    <tr>\n",
       "      <th>1</th>\n",
       "      <td>1602271</td>\n",
       "      <td>marcoislandlakeside.com</td>\n",
       "      <td>0</td>\n",
       "    </tr>\n",
       "    <tr>\n",
       "      <th>2</th>\n",
       "      <td>2326480</td>\n",
       "      <td>rhythmicmom.com/</td>\n",
       "      <td>0</td>\n",
       "    </tr>\n",
       "    <tr>\n",
       "      <th>3</th>\n",
       "      <td>2682638</td>\n",
       "      <td>https://www.spokeo.com/Kevin+Hardy</td>\n",
       "      <td>0</td>\n",
       "    </tr>\n",
       "    <tr>\n",
       "      <th>4</th>\n",
       "      <td>1607789</td>\n",
       "      <td>solmedia.pk/images/tmp/7/</td>\n",
       "      <td>1</td>\n",
       "    </tr>\n",
       "  </tbody>\n",
       "</table>\n",
       "</div>"
      ],
      "text/plain": [
       "   Unnamed: 0                                 url  label\n",
       "0     2595198  https://www.hagen.com/uk/about.cfm      0\n",
       "1     1602271             marcoislandlakeside.com      0\n",
       "2     2326480                    rhythmicmom.com/      0\n",
       "3     2682638  https://www.spokeo.com/Kevin+Hardy      0\n",
       "4     1607789           solmedia.pk/images/tmp/7/      1"
      ]
     },
     "execution_count": 13,
     "metadata": {},
     "output_type": "execute_result"
    }
   ],
   "source": [
    "test.head()"
   ]
  },
  {
   "cell_type": "code",
   "execution_count": 14,
   "metadata": {},
   "outputs": [],
   "source": [
    "train.drop(['Unnamed: 0'], axis = 1, inplace = True)\n",
    "test.drop(['Unnamed: 0'], axis = 1, inplace = True)"
   ]
  },
  {
   "cell_type": "code",
   "execution_count": 15,
   "metadata": {},
   "outputs": [
    {
     "data": {
      "text/html": [
       "<div>\n",
       "<style scoped>\n",
       "    .dataframe tbody tr th:only-of-type {\n",
       "        vertical-align: middle;\n",
       "    }\n",
       "\n",
       "    .dataframe tbody tr th {\n",
       "        vertical-align: top;\n",
       "    }\n",
       "\n",
       "    .dataframe thead th {\n",
       "        text-align: right;\n",
       "    }\n",
       "</style>\n",
       "<table border=\"1\" class=\"dataframe\">\n",
       "  <thead>\n",
       "    <tr style=\"text-align: right;\">\n",
       "      <th></th>\n",
       "      <th>url</th>\n",
       "      <th>label</th>\n",
       "    </tr>\n",
       "  </thead>\n",
       "  <tbody>\n",
       "    <tr>\n",
       "      <th>0</th>\n",
       "      <td>tanecni-divadlo.cz</td>\n",
       "      <td>0</td>\n",
       "    </tr>\n",
       "    <tr>\n",
       "      <th>1</th>\n",
       "      <td>www1.rcn.ne.jp</td>\n",
       "      <td>0</td>\n",
       "    </tr>\n",
       "    <tr>\n",
       "      <th>2</th>\n",
       "      <td>freeadsciti.com</td>\n",
       "      <td>0</td>\n",
       "    </tr>\n",
       "    <tr>\n",
       "      <th>3</th>\n",
       "      <td>http://recoveryacct99002108.000webhostapp.com/...</td>\n",
       "      <td>1</td>\n",
       "    </tr>\n",
       "    <tr>\n",
       "      <th>4</th>\n",
       "      <td>baz-do.de</td>\n",
       "      <td>0</td>\n",
       "    </tr>\n",
       "  </tbody>\n",
       "</table>\n",
       "</div>"
      ],
      "text/plain": [
       "                                                 url  label\n",
       "0                                 tanecni-divadlo.cz      0\n",
       "1                                     www1.rcn.ne.jp      0\n",
       "2                                    freeadsciti.com      0\n",
       "3  http://recoveryacct99002108.000webhostapp.com/...      1\n",
       "4                                          baz-do.de      0"
      ]
     },
     "execution_count": 15,
     "metadata": {},
     "output_type": "execute_result"
    }
   ],
   "source": [
    "train.head()"
   ]
  },
  {
   "cell_type": "code",
   "execution_count": 16,
   "metadata": {},
   "outputs": [
    {
     "data": {
      "text/html": [
       "<div>\n",
       "<style scoped>\n",
       "    .dataframe tbody tr th:only-of-type {\n",
       "        vertical-align: middle;\n",
       "    }\n",
       "\n",
       "    .dataframe tbody tr th {\n",
       "        vertical-align: top;\n",
       "    }\n",
       "\n",
       "    .dataframe thead th {\n",
       "        text-align: right;\n",
       "    }\n",
       "</style>\n",
       "<table border=\"1\" class=\"dataframe\">\n",
       "  <thead>\n",
       "    <tr style=\"text-align: right;\">\n",
       "      <th></th>\n",
       "      <th>url</th>\n",
       "      <th>label</th>\n",
       "    </tr>\n",
       "  </thead>\n",
       "  <tbody>\n",
       "    <tr>\n",
       "      <th>0</th>\n",
       "      <td>https://www.hagen.com/uk/about.cfm</td>\n",
       "      <td>0</td>\n",
       "    </tr>\n",
       "    <tr>\n",
       "      <th>1</th>\n",
       "      <td>marcoislandlakeside.com</td>\n",
       "      <td>0</td>\n",
       "    </tr>\n",
       "    <tr>\n",
       "      <th>2</th>\n",
       "      <td>rhythmicmom.com/</td>\n",
       "      <td>0</td>\n",
       "    </tr>\n",
       "    <tr>\n",
       "      <th>3</th>\n",
       "      <td>https://www.spokeo.com/Kevin+Hardy</td>\n",
       "      <td>0</td>\n",
       "    </tr>\n",
       "    <tr>\n",
       "      <th>4</th>\n",
       "      <td>solmedia.pk/images/tmp/7/</td>\n",
       "      <td>1</td>\n",
       "    </tr>\n",
       "  </tbody>\n",
       "</table>\n",
       "</div>"
      ],
      "text/plain": [
       "                                  url  label\n",
       "0  https://www.hagen.com/uk/about.cfm      0\n",
       "1             marcoislandlakeside.com      0\n",
       "2                    rhythmicmom.com/      0\n",
       "3  https://www.spokeo.com/Kevin+Hardy      0\n",
       "4           solmedia.pk/images/tmp/7/      1"
      ]
     },
     "execution_count": 16,
     "metadata": {},
     "output_type": "execute_result"
    }
   ],
   "source": [
    "test.head()"
   ]
  },
  {
   "cell_type": "markdown",
   "metadata": {},
   "source": [
    "Concept: Implementing GCN to classify. GCN essentially creates a graph out of the dataset where nodes will be the entries and edges are found from simlarity based connections.\n",
    "KNN algorithm is used to find the similarity between the nodes. The similarity is based on the distance between the nodes. For KNN to work efficiently, it needs to operate with numerical values only. Directly label encoding URLs will be meaningless as since every entry in the dataset is unique, it would represent a different value for each - thus giving an inaccurate similarity measure. Hence, we need to convert the URLs into meaningful numerical values."
   ]
  },
  {
   "cell_type": "markdown",
   "metadata": {},
   "source": [
    "This is done by considering the following methods:\n",
    "1. Extracting lexical features (such as the number of hyphens, dots, special characters, etc)\n",
    "2. Extracting word embeddings using tf-idf vectorizer (basically calculating frequency of repetition of particular parts of the url)\n",
    "3. Extracting root domain and subdomain features"
   ]
  },
  {
   "cell_type": "markdown",
   "metadata": {},
   "source": [
    "Importing required libraries for the same:"
   ]
  },
  {
   "cell_type": "code",
   "execution_count": 17,
   "metadata": {},
   "outputs": [],
   "source": [
    "import re\n",
    "import tldextract\n",
    "from urllib.parse import urlparse\n",
    "from sklearn.feature_extraction.text import TfidfVectorizer\n",
    "from sklearn.decomposition import TruncatedSVD, PCA\n",
    "from sklearn.preprocessing import StandardScaler"
   ]
  },
  {
   "cell_type": "markdown",
   "metadata": {},
   "source": [
    "If we directly implement all feature changes, size of dataset would increase significantly, causing high memory usage in model training and inefficient processing times. Thus, we will work with top 50 features only."
   ]
  },
  {
   "cell_type": "markdown",
   "metadata": {},
   "source": [
    "Token pattern in tf-idf explanation (regex):\n",
    "- (?u) → This ensures Unicode compatibility, treating words from different languages correctly.\n",
    "- \\b → Word boundary, ensures we capture complete words.\n",
    "- \\w+ → Matches one or more word characters (letters, numbers, and underscores).\n",
    "- \\b → Another word boundary to ensure complete words are extracted."
   ]
  },
  {
   "cell_type": "markdown",
   "metadata": {},
   "source": [
    "TF-IDF vectorizer:\n",
    "- Defining max features in tf idf as 1000 would help us analyze the pattern in urls in a dataset well, but 1000 features increases memory consumption significantly. It creates a high dimensional, sparse matrix with 1000 features. \n",
    "- We will implemented TruncatedSVD here: extracting top 20 features with LSA\n",
    "\n",
    "Latent Semantic Analysis:\n",
    "- It is a dimension reductionality technique used to discover hidden relationships between words.\n",
    "- How it works: Builds a TF-IDF matrix -> Truncated SVD -> Selecting K Best\n"
   ]
  },
  {
   "cell_type": "markdown",
   "metadata": {},
   "source": [
    "Truncated SVD essentially breaks a matrix down into three smaller matrices:\n",
    "- U: Document-topic relationships\n",
    "- Σ: Singular values (importance of each topic)\n",
    "- V: Word-topic relationships\n",
    "- Formula: A=UΣ(V)^T"
   ]
  },
  {
   "cell_type": "markdown",
   "metadata": {},
   "source": [
    "PCA - Principal Component Analysis for Word Embeddings\n",
    "- Finds most informative directions in data and reduces assumed 100D to around 10D"
   ]
  },
  {
   "cell_type": "code",
   "execution_count": 18,
   "metadata": {},
   "outputs": [],
   "source": [
    "class Numerization:\n",
    "    def __init__(self, max_tfidf_features=1000, reduced_tfidf_features=20, reduced_embedding_features=10):\n",
    "        self.max_tfidf_features = max_tfidf_features  \n",
    "        self.reduced_tfidf_features = reduced_tfidf_features  \n",
    "        self.reduced_embedding_features = reduced_embedding_features  \n",
    "        self.tfidf_vectorizer = None  \n",
    "        self.tfidf_reducer = None  \n",
    "        self.embedding_reducer = PCA(n_components=reduced_embedding_features) \n",
    "\n",
    "    def extract_lexical_features(self, url):\n",
    "        \"\"\"Extracts lexical features from a URL.\"\"\"\n",
    "        # note that lexical features selected are the top 10 most widely used for URLs\n",
    "        return [\n",
    "            len(url),  \n",
    "            sum(c.isdigit() for c in url),  \n",
    "            url.count('-'),\n",
    "            url.count('_'), \n",
    "            url.count('.'),  \n",
    "            url.count('/'),  \n",
    "            url.count('?'),  \n",
    "            url.count('='), \n",
    "            url.count('@'),  \n",
    "            len(set(url)) \n",
    "        ]\n",
    "\n",
    "    def extract_domain_features(self, url):\n",
    "        \"\"\"Extracts domain-related features from a URL.\"\"\"\n",
    "        ext = tldextract.extract(url)\n",
    "        domain = ext.domain\n",
    "        subdomain = ext.subdomain\n",
    "        tld = ext.suffix\n",
    "\n",
    "        phishing_keywords = ['login', 'secure', 'banking', 'account', 'update', 'verify']\n",
    "        contains_phishing_words = int(any(word in url for word in phishing_keywords))\n",
    "\n",
    "        return [\n",
    "            len(domain), \n",
    "            len(subdomain), \n",
    "            len(tld), \n",
    "            contains_phishing_words, \n",
    "            domain.count('-'), \n",
    "            domain.count('.'), \n",
    "            domain.count('/'), \n",
    "            domain.count('_'), \n",
    "            subdomain.count('-'), \n",
    "            subdomain.count('.') \n",
    "        ]\n",
    "\n",
    "    def fit_tfidf(self, urls):\n",
    "        \"\"\"Fits TF-IDF vectorizer and reduces dimensions using SVD.\"\"\"\n",
    "        self.tfidf_vectorizer = TfidfVectorizer(max_features=self.max_tfidf_features, token_pattern=r\"(?u)\\b\\w+\\b\")\n",
    "        tfidf_matrix = self.tfidf_vectorizer.fit_transform(urls)\n",
    "\n",
    "        self.tfidf_reducer = TruncatedSVD(n_components=self.reduced_tfidf_features)\n",
    "        return self.tfidf_reducer.fit_transform(tfidf_matrix)\n",
    "\n",
    "    def transform_tfidf(self, urls):\n",
    "        \"\"\"Transforms URLs using pre-trained TF-IDF and SVD models.\"\"\"\n",
    "        tfidf_matrix = self.tfidf_vectorizer.transform(urls)\n",
    "        return self.tfidf_reducer.transform(tfidf_matrix)\n",
    "\n",
    "    def transform_embeddings(self, urls):\n",
    "        \"\"\"Dummy function to generate and reduce word embeddings (placeholder).\"\"\"\n",
    "        embedding_matrix = np.random.rand(len(urls), 100)  # here we assume embeddings are 100D\n",
    "        return self.embedding_reducer.fit_transform(embedding_matrix)\n",
    "\n",
    "    def transform_dataset(self, df, fit_tfidf=True):\n",
    "        \"\"\"Applies feature extraction to dataset.\"\"\"\n",
    "        urls = df[\"url\"].values\n",
    "\n",
    "        lexical_features = np.array([self.extract_lexical_features(url) for url in urls])\n",
    "        domain_features = np.array([self.extract_domain_features(url) for url in urls])\n",
    "\n",
    "        if fit_tfidf:\n",
    "            tfidf_features = self.fit_tfidf(urls)\n",
    "        else:\n",
    "            tfidf_features = self.transform_tfidf(urls)\n",
    "\n",
    "        embeddings_features = self.transform_embeddings(urls)\n",
    "\n",
    "        final_features = np.hstack([lexical_features, domain_features, tfidf_features, embeddings_features])\n",
    "        return final_features"
   ]
  },
  {
   "cell_type": "code",
   "execution_count": 19,
   "metadata": {},
   "outputs": [],
   "source": [
    "# creating an object for class Numerization\n",
    "num = Numerization(max_tfidf_features=1000, reduced_tfidf_features=20, reduced_embedding_features=10)"
   ]
  },
  {
   "cell_type": "code",
   "execution_count": 20,
   "metadata": {},
   "outputs": [],
   "source": [
    "# applying transformations to train\n",
    "train_features = num.transform_dataset(train, fit_tfidf=True)\n",
    "train_labels = train[\"label\"].values  \n",
    "train_set = pd.DataFrame(train_features)\n",
    "train_set[\"label\"] = train_labels  "
   ]
  },
  {
   "cell_type": "code",
   "execution_count": 21,
   "metadata": {},
   "outputs": [],
   "source": [
    "lexical_feature_names = [\n",
    "    \"url_length\", \"digit_count\", \"hyphen_count\", \"underscore_count\",\n",
    "    \"dot_count\", \"slash_count\", \"question_mark_count\", \"equal_sign_count\",\n",
    "    \"at_sign_count\", \"unique_char_count\"\n",
    "]\n",
    "\n",
    "domain_feature_names = [\n",
    "    \"domain_length\", \"subdomain_length\", \"tld_length\",\n",
    "    \"contains_phishing_keyword\", \"domain_hyphen_count\",\n",
    "    \"domain_dot_count\", \"domain_slash_count\", \"domain_underscore_count\",\n",
    "    \"subdomain_hyphen_count\", \"subdomain_dot_count\"\n",
    "]\n",
    "\n",
    "tfidf_feature_names = [f\"tfidf_{i+1}\" for i in range(num.reduced_tfidf_features)]\n",
    "embedding_feature_names = [f\"embedding_{i+1}\" for i in range(num.reduced_embedding_features)]\n",
    "\n",
    "column_names = lexical_feature_names + domain_feature_names + tfidf_feature_names + embedding_feature_names + [\"label\"]\n",
    "\n",
    "train_features = num.transform_dataset(train, fit_tfidf=True)\n",
    "train_labels = train[\"label\"].values \n",
    "train_set = pd.DataFrame(np.hstack([train_features, train_labels.reshape(-1, 1)]), columns=column_names)\n"
   ]
  },
  {
   "cell_type": "code",
   "execution_count": 22,
   "metadata": {},
   "outputs": [
    {
     "data": {
      "text/plain": [
       "(100000, 51)"
      ]
     },
     "execution_count": 22,
     "metadata": {},
     "output_type": "execute_result"
    }
   ],
   "source": [
    "train_set.shape"
   ]
  },
  {
   "cell_type": "code",
   "execution_count": 23,
   "metadata": {},
   "outputs": [
    {
     "data": {
      "text/html": [
       "<div>\n",
       "<style scoped>\n",
       "    .dataframe tbody tr th:only-of-type {\n",
       "        vertical-align: middle;\n",
       "    }\n",
       "\n",
       "    .dataframe tbody tr th {\n",
       "        vertical-align: top;\n",
       "    }\n",
       "\n",
       "    .dataframe thead th {\n",
       "        text-align: right;\n",
       "    }\n",
       "</style>\n",
       "<table border=\"1\" class=\"dataframe\">\n",
       "  <thead>\n",
       "    <tr style=\"text-align: right;\">\n",
       "      <th></th>\n",
       "      <th>url_length</th>\n",
       "      <th>digit_count</th>\n",
       "      <th>hyphen_count</th>\n",
       "      <th>underscore_count</th>\n",
       "      <th>dot_count</th>\n",
       "      <th>slash_count</th>\n",
       "      <th>question_mark_count</th>\n",
       "      <th>equal_sign_count</th>\n",
       "      <th>at_sign_count</th>\n",
       "      <th>unique_char_count</th>\n",
       "      <th>...</th>\n",
       "      <th>embedding_2</th>\n",
       "      <th>embedding_3</th>\n",
       "      <th>embedding_4</th>\n",
       "      <th>embedding_5</th>\n",
       "      <th>embedding_6</th>\n",
       "      <th>embedding_7</th>\n",
       "      <th>embedding_8</th>\n",
       "      <th>embedding_9</th>\n",
       "      <th>embedding_10</th>\n",
       "      <th>label</th>\n",
       "    </tr>\n",
       "  </thead>\n",
       "  <tbody>\n",
       "    <tr>\n",
       "      <th>0</th>\n",
       "      <td>18.0</td>\n",
       "      <td>0.0</td>\n",
       "      <td>1.0</td>\n",
       "      <td>0.0</td>\n",
       "      <td>1.0</td>\n",
       "      <td>0.0</td>\n",
       "      <td>0.0</td>\n",
       "      <td>0.0</td>\n",
       "      <td>0.0</td>\n",
       "      <td>13.0</td>\n",
       "      <td>...</td>\n",
       "      <td>-0.509176</td>\n",
       "      <td>-0.120770</td>\n",
       "      <td>0.187720</td>\n",
       "      <td>0.286134</td>\n",
       "      <td>-0.148107</td>\n",
       "      <td>0.241763</td>\n",
       "      <td>-0.612657</td>\n",
       "      <td>0.181612</td>\n",
       "      <td>-0.567461</td>\n",
       "      <td>0.0</td>\n",
       "    </tr>\n",
       "    <tr>\n",
       "      <th>1</th>\n",
       "      <td>14.0</td>\n",
       "      <td>1.0</td>\n",
       "      <td>0.0</td>\n",
       "      <td>0.0</td>\n",
       "      <td>3.0</td>\n",
       "      <td>0.0</td>\n",
       "      <td>0.0</td>\n",
       "      <td>0.0</td>\n",
       "      <td>0.0</td>\n",
       "      <td>9.0</td>\n",
       "      <td>...</td>\n",
       "      <td>0.566319</td>\n",
       "      <td>0.289271</td>\n",
       "      <td>-0.034010</td>\n",
       "      <td>0.123534</td>\n",
       "      <td>-0.223114</td>\n",
       "      <td>0.762002</td>\n",
       "      <td>-0.272924</td>\n",
       "      <td>0.313709</td>\n",
       "      <td>-0.288354</td>\n",
       "      <td>0.0</td>\n",
       "    </tr>\n",
       "    <tr>\n",
       "      <th>2</th>\n",
       "      <td>15.0</td>\n",
       "      <td>0.0</td>\n",
       "      <td>0.0</td>\n",
       "      <td>0.0</td>\n",
       "      <td>1.0</td>\n",
       "      <td>0.0</td>\n",
       "      <td>0.0</td>\n",
       "      <td>0.0</td>\n",
       "      <td>0.0</td>\n",
       "      <td>12.0</td>\n",
       "      <td>...</td>\n",
       "      <td>-0.417525</td>\n",
       "      <td>-0.294720</td>\n",
       "      <td>0.053149</td>\n",
       "      <td>-0.073894</td>\n",
       "      <td>0.175631</td>\n",
       "      <td>-0.358227</td>\n",
       "      <td>0.365919</td>\n",
       "      <td>0.216426</td>\n",
       "      <td>0.398006</td>\n",
       "      <td>0.0</td>\n",
       "    </tr>\n",
       "    <tr>\n",
       "      <th>3</th>\n",
       "      <td>132.0</td>\n",
       "      <td>23.0</td>\n",
       "      <td>2.0</td>\n",
       "      <td>2.0</td>\n",
       "      <td>3.0</td>\n",
       "      <td>3.0</td>\n",
       "      <td>2.0</td>\n",
       "      <td>3.0</td>\n",
       "      <td>0.0</td>\n",
       "      <td>38.0</td>\n",
       "      <td>...</td>\n",
       "      <td>-0.098678</td>\n",
       "      <td>0.036646</td>\n",
       "      <td>-0.154021</td>\n",
       "      <td>0.209242</td>\n",
       "      <td>-0.215460</td>\n",
       "      <td>0.358792</td>\n",
       "      <td>0.629724</td>\n",
       "      <td>-0.258223</td>\n",
       "      <td>0.116281</td>\n",
       "      <td>1.0</td>\n",
       "    </tr>\n",
       "    <tr>\n",
       "      <th>4</th>\n",
       "      <td>9.0</td>\n",
       "      <td>0.0</td>\n",
       "      <td>1.0</td>\n",
       "      <td>0.0</td>\n",
       "      <td>1.0</td>\n",
       "      <td>0.0</td>\n",
       "      <td>0.0</td>\n",
       "      <td>0.0</td>\n",
       "      <td>0.0</td>\n",
       "      <td>8.0</td>\n",
       "      <td>...</td>\n",
       "      <td>0.260816</td>\n",
       "      <td>-0.057977</td>\n",
       "      <td>0.386444</td>\n",
       "      <td>-0.010284</td>\n",
       "      <td>0.328598</td>\n",
       "      <td>0.190295</td>\n",
       "      <td>0.216936</td>\n",
       "      <td>0.002209</td>\n",
       "      <td>0.220171</td>\n",
       "      <td>0.0</td>\n",
       "    </tr>\n",
       "  </tbody>\n",
       "</table>\n",
       "<p>5 rows × 51 columns</p>\n",
       "</div>"
      ],
      "text/plain": [
       "   url_length  digit_count  hyphen_count  underscore_count  dot_count  \\\n",
       "0        18.0          0.0           1.0               0.0        1.0   \n",
       "1        14.0          1.0           0.0               0.0        3.0   \n",
       "2        15.0          0.0           0.0               0.0        1.0   \n",
       "3       132.0         23.0           2.0               2.0        3.0   \n",
       "4         9.0          0.0           1.0               0.0        1.0   \n",
       "\n",
       "   slash_count  question_mark_count  equal_sign_count  at_sign_count  \\\n",
       "0          0.0                  0.0               0.0            0.0   \n",
       "1          0.0                  0.0               0.0            0.0   \n",
       "2          0.0                  0.0               0.0            0.0   \n",
       "3          3.0                  2.0               3.0            0.0   \n",
       "4          0.0                  0.0               0.0            0.0   \n",
       "\n",
       "   unique_char_count  ...  embedding_2  embedding_3  embedding_4  embedding_5  \\\n",
       "0               13.0  ...    -0.509176    -0.120770     0.187720     0.286134   \n",
       "1                9.0  ...     0.566319     0.289271    -0.034010     0.123534   \n",
       "2               12.0  ...    -0.417525    -0.294720     0.053149    -0.073894   \n",
       "3               38.0  ...    -0.098678     0.036646    -0.154021     0.209242   \n",
       "4                8.0  ...     0.260816    -0.057977     0.386444    -0.010284   \n",
       "\n",
       "   embedding_6  embedding_7  embedding_8  embedding_9  embedding_10  label  \n",
       "0    -0.148107     0.241763    -0.612657     0.181612     -0.567461    0.0  \n",
       "1    -0.223114     0.762002    -0.272924     0.313709     -0.288354    0.0  \n",
       "2     0.175631    -0.358227     0.365919     0.216426      0.398006    0.0  \n",
       "3    -0.215460     0.358792     0.629724    -0.258223      0.116281    1.0  \n",
       "4     0.328598     0.190295     0.216936     0.002209      0.220171    0.0  \n",
       "\n",
       "[5 rows x 51 columns]"
      ]
     },
     "execution_count": 23,
     "metadata": {},
     "output_type": "execute_result"
    }
   ],
   "source": [
    "train_set.head()"
   ]
  },
  {
   "cell_type": "code",
   "execution_count": 24,
   "metadata": {},
   "outputs": [],
   "source": [
    "# applying the same transformations to test set\n",
    "\n",
    "test_features = num.transform_dataset(test, fit_tfidf=False) \n",
    "test_labels = test[\"label\"].values \n",
    "\n",
    "test_set = pd.DataFrame(np.hstack([test_features, test_labels.reshape(-1, 1)]), columns=column_names)"
   ]
  },
  {
   "cell_type": "code",
   "execution_count": 25,
   "metadata": {},
   "outputs": [
    {
     "data": {
      "text/plain": [
       "(25000, 51)"
      ]
     },
     "execution_count": 25,
     "metadata": {},
     "output_type": "execute_result"
    }
   ],
   "source": [
    "test_set.shape"
   ]
  },
  {
   "cell_type": "code",
   "execution_count": 26,
   "metadata": {},
   "outputs": [
    {
     "data": {
      "text/html": [
       "<div>\n",
       "<style scoped>\n",
       "    .dataframe tbody tr th:only-of-type {\n",
       "        vertical-align: middle;\n",
       "    }\n",
       "\n",
       "    .dataframe tbody tr th {\n",
       "        vertical-align: top;\n",
       "    }\n",
       "\n",
       "    .dataframe thead th {\n",
       "        text-align: right;\n",
       "    }\n",
       "</style>\n",
       "<table border=\"1\" class=\"dataframe\">\n",
       "  <thead>\n",
       "    <tr style=\"text-align: right;\">\n",
       "      <th></th>\n",
       "      <th>url_length</th>\n",
       "      <th>digit_count</th>\n",
       "      <th>hyphen_count</th>\n",
       "      <th>underscore_count</th>\n",
       "      <th>dot_count</th>\n",
       "      <th>slash_count</th>\n",
       "      <th>question_mark_count</th>\n",
       "      <th>equal_sign_count</th>\n",
       "      <th>at_sign_count</th>\n",
       "      <th>unique_char_count</th>\n",
       "      <th>...</th>\n",
       "      <th>embedding_2</th>\n",
       "      <th>embedding_3</th>\n",
       "      <th>embedding_4</th>\n",
       "      <th>embedding_5</th>\n",
       "      <th>embedding_6</th>\n",
       "      <th>embedding_7</th>\n",
       "      <th>embedding_8</th>\n",
       "      <th>embedding_9</th>\n",
       "      <th>embedding_10</th>\n",
       "      <th>label</th>\n",
       "    </tr>\n",
       "  </thead>\n",
       "  <tbody>\n",
       "    <tr>\n",
       "      <th>0</th>\n",
       "      <td>34.0</td>\n",
       "      <td>0.0</td>\n",
       "      <td>0.0</td>\n",
       "      <td>0.0</td>\n",
       "      <td>3.0</td>\n",
       "      <td>4.0</td>\n",
       "      <td>0.0</td>\n",
       "      <td>0.0</td>\n",
       "      <td>0.0</td>\n",
       "      <td>19.0</td>\n",
       "      <td>...</td>\n",
       "      <td>0.212855</td>\n",
       "      <td>0.140256</td>\n",
       "      <td>-0.134739</td>\n",
       "      <td>0.104571</td>\n",
       "      <td>-0.567277</td>\n",
       "      <td>-0.151293</td>\n",
       "      <td>-0.232225</td>\n",
       "      <td>-0.362884</td>\n",
       "      <td>0.232498</td>\n",
       "      <td>0.0</td>\n",
       "    </tr>\n",
       "    <tr>\n",
       "      <th>1</th>\n",
       "      <td>23.0</td>\n",
       "      <td>0.0</td>\n",
       "      <td>0.0</td>\n",
       "      <td>0.0</td>\n",
       "      <td>1.0</td>\n",
       "      <td>0.0</td>\n",
       "      <td>0.0</td>\n",
       "      <td>0.0</td>\n",
       "      <td>0.0</td>\n",
       "      <td>13.0</td>\n",
       "      <td>...</td>\n",
       "      <td>0.614163</td>\n",
       "      <td>-0.047540</td>\n",
       "      <td>0.171135</td>\n",
       "      <td>0.315114</td>\n",
       "      <td>0.402379</td>\n",
       "      <td>-0.134265</td>\n",
       "      <td>-0.019351</td>\n",
       "      <td>0.307660</td>\n",
       "      <td>-0.291993</td>\n",
       "      <td>0.0</td>\n",
       "    </tr>\n",
       "    <tr>\n",
       "      <th>2</th>\n",
       "      <td>16.0</td>\n",
       "      <td>0.0</td>\n",
       "      <td>0.0</td>\n",
       "      <td>0.0</td>\n",
       "      <td>1.0</td>\n",
       "      <td>1.0</td>\n",
       "      <td>0.0</td>\n",
       "      <td>0.0</td>\n",
       "      <td>0.0</td>\n",
       "      <td>10.0</td>\n",
       "      <td>...</td>\n",
       "      <td>0.513716</td>\n",
       "      <td>0.141810</td>\n",
       "      <td>-0.448817</td>\n",
       "      <td>0.484037</td>\n",
       "      <td>-0.047280</td>\n",
       "      <td>-0.150773</td>\n",
       "      <td>-0.166174</td>\n",
       "      <td>-0.028913</td>\n",
       "      <td>-0.064554</td>\n",
       "      <td>0.0</td>\n",
       "    </tr>\n",
       "    <tr>\n",
       "      <th>3</th>\n",
       "      <td>34.0</td>\n",
       "      <td>0.0</td>\n",
       "      <td>0.0</td>\n",
       "      <td>0.0</td>\n",
       "      <td>2.0</td>\n",
       "      <td>3.0</td>\n",
       "      <td>0.0</td>\n",
       "      <td>0.0</td>\n",
       "      <td>0.0</td>\n",
       "      <td>23.0</td>\n",
       "      <td>...</td>\n",
       "      <td>0.334690</td>\n",
       "      <td>0.367211</td>\n",
       "      <td>0.161834</td>\n",
       "      <td>-0.367483</td>\n",
       "      <td>-0.222694</td>\n",
       "      <td>-0.277659</td>\n",
       "      <td>-0.005530</td>\n",
       "      <td>0.510996</td>\n",
       "      <td>0.053966</td>\n",
       "      <td>0.0</td>\n",
       "    </tr>\n",
       "    <tr>\n",
       "      <th>4</th>\n",
       "      <td>25.0</td>\n",
       "      <td>1.0</td>\n",
       "      <td>0.0</td>\n",
       "      <td>0.0</td>\n",
       "      <td>1.0</td>\n",
       "      <td>4.0</td>\n",
       "      <td>0.0</td>\n",
       "      <td>0.0</td>\n",
       "      <td>0.0</td>\n",
       "      <td>15.0</td>\n",
       "      <td>...</td>\n",
       "      <td>0.202395</td>\n",
       "      <td>0.151099</td>\n",
       "      <td>-0.168486</td>\n",
       "      <td>-0.081582</td>\n",
       "      <td>-0.053150</td>\n",
       "      <td>-0.086914</td>\n",
       "      <td>0.158196</td>\n",
       "      <td>0.079323</td>\n",
       "      <td>0.250457</td>\n",
       "      <td>1.0</td>\n",
       "    </tr>\n",
       "  </tbody>\n",
       "</table>\n",
       "<p>5 rows × 51 columns</p>\n",
       "</div>"
      ],
      "text/plain": [
       "   url_length  digit_count  hyphen_count  underscore_count  dot_count  \\\n",
       "0        34.0          0.0           0.0               0.0        3.0   \n",
       "1        23.0          0.0           0.0               0.0        1.0   \n",
       "2        16.0          0.0           0.0               0.0        1.0   \n",
       "3        34.0          0.0           0.0               0.0        2.0   \n",
       "4        25.0          1.0           0.0               0.0        1.0   \n",
       "\n",
       "   slash_count  question_mark_count  equal_sign_count  at_sign_count  \\\n",
       "0          4.0                  0.0               0.0            0.0   \n",
       "1          0.0                  0.0               0.0            0.0   \n",
       "2          1.0                  0.0               0.0            0.0   \n",
       "3          3.0                  0.0               0.0            0.0   \n",
       "4          4.0                  0.0               0.0            0.0   \n",
       "\n",
       "   unique_char_count  ...  embedding_2  embedding_3  embedding_4  embedding_5  \\\n",
       "0               19.0  ...     0.212855     0.140256    -0.134739     0.104571   \n",
       "1               13.0  ...     0.614163    -0.047540     0.171135     0.315114   \n",
       "2               10.0  ...     0.513716     0.141810    -0.448817     0.484037   \n",
       "3               23.0  ...     0.334690     0.367211     0.161834    -0.367483   \n",
       "4               15.0  ...     0.202395     0.151099    -0.168486    -0.081582   \n",
       "\n",
       "   embedding_6  embedding_7  embedding_8  embedding_9  embedding_10  label  \n",
       "0    -0.567277    -0.151293    -0.232225    -0.362884      0.232498    0.0  \n",
       "1     0.402379    -0.134265    -0.019351     0.307660     -0.291993    0.0  \n",
       "2    -0.047280    -0.150773    -0.166174    -0.028913     -0.064554    0.0  \n",
       "3    -0.222694    -0.277659    -0.005530     0.510996      0.053966    0.0  \n",
       "4    -0.053150    -0.086914     0.158196     0.079323      0.250457    1.0  \n",
       "\n",
       "[5 rows x 51 columns]"
      ]
     },
     "execution_count": 26,
     "metadata": {},
     "output_type": "execute_result"
    }
   ],
   "source": [
    "test_set.head()"
   ]
  },
  {
   "cell_type": "markdown",
   "metadata": {},
   "source": [
    "Implementing graph convolutional network to find malicious urls:"
   ]
  },
  {
   "cell_type": "markdown",
   "metadata": {},
   "source": [
    "Importing required libraries:"
   ]
  },
  {
   "cell_type": "code",
   "execution_count": 27,
   "metadata": {},
   "outputs": [
    {
     "name": "stderr",
     "output_type": "stream",
     "text": [
      "c:\\Users\\sara_\\AppData\\Local\\Programs\\Python\\Python311\\Lib\\site-packages\\tqdm\\auto.py:21: TqdmWarning: IProgress not found. Please update jupyter and ipywidgets. See https://ipywidgets.readthedocs.io/en/stable/user_install.html\n",
      "  from .autonotebook import tqdm as notebook_tqdm\n"
     ]
    }
   ],
   "source": [
    "import torch\n",
    "import torch.nn.functional as F\n",
    "from torch_geometric.data import Data\n",
    "from torch_geometric.nn import GCNConv, BatchNorm\n",
    "from sklearn.neighbors import NearestNeighbors\n",
    "from torch_geometric.loader import DataLoader"
   ]
  },
  {
   "cell_type": "code",
   "execution_count": 28,
   "metadata": {},
   "outputs": [],
   "source": [
    "X_train = train_set.iloc[:, :-1].values \n",
    "y_train = train_set.iloc[:, -1].values "
   ]
  },
  {
   "cell_type": "markdown",
   "metadata": {},
   "source": [
    "Building the KNN graph:"
   ]
  },
  {
   "cell_type": "code",
   "execution_count": 29,
   "metadata": {},
   "outputs": [],
   "source": [
    "knn = NearestNeighbors(n_neighbors=7, metric=\"minkowski\", p=2)\n",
    "knn.fit(X_train)\n",
    "distances, indices = knn.kneighbors(X_train)\n",
    "\n",
    "# k = 7 connectivity to try to improve connectivity and pattern between urls\n",
    "# metric = minkowski calculates euclidiean distance which is better for continuous numerical features "
   ]
  },
  {
   "cell_type": "code",
   "execution_count": 30,
   "metadata": {},
   "outputs": [],
   "source": [
    "# converting our dataset into a graph to make it compatible for Pytorch Geometric\n",
    "edge_index = []\n",
    "for i in range(len(X_train)):\n",
    "    for j in indices[i]:\n",
    "        edge_index.append([i, j])\n",
    "\n",
    "edge_index = torch.tensor(edge_index, dtype=torch.long).t().contiguous()\n",
    "\n",
    "X_train_tensor = torch.tensor(X_train, dtype=torch.float)\n",
    "y_train_tensor = torch.tensor(y_train, dtype=torch.long)\n",
    "\n",
    "graph_data = Data(x=X_train_tensor, edge_index=edge_index, y=y_train_tensor)"
   ]
  },
  {
   "cell_type": "code",
   "execution_count": 31,
   "metadata": {},
   "outputs": [
    {
     "name": "stdout",
     "output_type": "stream",
     "text": [
      "Data(x=[100000, 50], edge_index=[2, 700000], y=[100000])\n"
     ]
    }
   ],
   "source": [
    "print(graph_data)"
   ]
  },
  {
   "cell_type": "markdown",
   "metadata": {},
   "source": [
    "Saving all trained models:"
   ]
  },
  {
   "cell_type": "code",
   "execution_count": 34,
   "metadata": {},
   "outputs": [
    {
     "data": {
      "text/plain": [
       "['X_train.pkl']"
      ]
     },
     "execution_count": 34,
     "metadata": {},
     "output_type": "execute_result"
    }
   ],
   "source": [
    "import joblib\n",
    "\n",
    "# Save trained models\n",
    "joblib.dump(num.tfidf_vectorizer, \"tfidf_vectorizer.pkl\")\n",
    "joblib.dump(num.tfidf_reducer, \"tfidf_reducer.pkl\")\n",
    "joblib.dump(num.embedding_reducer, \"embedding_reducer.pkl\")\n",
    "joblib.dump(knn, \"knn_model.pkl\")\n",
    "joblib.dump(X_train, \"X_train.pkl\")  # Save training data for graph construction"
   ]
  },
  {
   "cell_type": "markdown",
   "metadata": {},
   "source": [
    "What does the graph look like?\n",
    "- x=[100000, 50] → 100,000 nodes (URLs), each with 50 features\n",
    "- edge_index=[2, 700000] → A total of 700,000 edges, stored as pairs of source & target nodes ([2, num_edges])\n",
    "- y=[100000] → Labels for all 100,000 nodes (binary classification: malicious or not)"
   ]
  },
  {
   "cell_type": "markdown",
   "metadata": {},
   "source": [
    "Also, prepping graph for test set for model evaluation:"
   ]
  },
  {
   "cell_type": "code",
   "execution_count": 35,
   "metadata": {},
   "outputs": [],
   "source": [
    "X_test = test_set.iloc[:, :-1].values \n",
    "y_test = test_set.iloc[:, -1].values "
   ]
  },
  {
   "cell_type": "code",
   "execution_count": 36,
   "metadata": {},
   "outputs": [],
   "source": [
    "knn = NearestNeighbors(n_neighbors=7, metric=\"minkowski\", p=2)\n",
    "knn.fit(X_test)\n",
    "distances, indices = knn.kneighbors(X_test)"
   ]
  },
  {
   "cell_type": "code",
   "execution_count": 37,
   "metadata": {},
   "outputs": [],
   "source": [
    "edge_index_test = []\n",
    "for i in range(len(X_test)):\n",
    "    for j in indices[i]:\n",
    "        edge_index_test.append([i, j])\n",
    "\n",
    "edge_index_test = torch.tensor(edge_index_test, dtype=torch.long).t().contiguous()\n",
    "\n",
    "X_test_tensor = torch.tensor(X_test, dtype=torch.float)\n",
    "y_test_tensor = torch.tensor(y_test, dtype=torch.long)\n",
    "\n",
    "graph_data_test = Data(x=X_test_tensor, edge_index=edge_index_test, y=y_test_tensor)"
   ]
  },
  {
   "cell_type": "code",
   "execution_count": 38,
   "metadata": {},
   "outputs": [
    {
     "name": "stdout",
     "output_type": "stream",
     "text": [
      "Data(x=[25000, 50], edge_index=[2, 175000], y=[25000])\n"
     ]
    }
   ],
   "source": [
    "print(graph_data_test)"
   ]
  },
  {
   "cell_type": "markdown",
   "metadata": {},
   "source": [
    "Selecting graph architectures:\n",
    "- Deeper GCN (Multi-Layer GCN)\t| More GCNConv layers (e.g., 3-5 layers) | Captures more complex dependencies |\tRisk of over-smoothing (nodes become too similar)\n",
    "- GraphSAGE | Uses sampling and aggregation to learn representations | Works on large-scale graphs, avoids full adjacency matrix storage | More complex than basic GCN\n",
    "- GAT (Graph Attention Networks) | Uses attention mechanisms to weigh node importance | Captures finer-grained relationships | Higher computational cost\n",
    "- GIN (Graph Isomorphism Networks) | Enhances expressiveness by learning unique graph structures | More powerful for distinguishing graph structures | Requires careful tuning of MLP layers."
   ]
  },
  {
   "cell_type": "markdown",
   "metadata": {},
   "source": [
    "Multi-Layer GCN:"
   ]
  },
  {
   "cell_type": "code",
   "execution_count": 68,
   "metadata": {},
   "outputs": [],
   "source": [
    "class DeepGCN(torch.nn.Module):\n",
    "    def __init__(self, in_channels, dropout=0.5):\n",
    "        super(DeepGCN, self).__init__()\n",
    "\n",
    "        self.conv1 = GCNConv(in_channels, 64)\n",
    "        self.bn1 = BatchNorm(64)\n",
    "\n",
    "        self.conv2 = GCNConv(64, 128)\n",
    "        self.bn2 = BatchNorm(128)\n",
    "\n",
    "        self.conv3 = GCNConv(128, 32)\n",
    "        self.bn3 = BatchNorm(32)\n",
    "\n",
    "        self.conv4 = GCNConv(32, 2)  \n",
    "\n",
    "        self.dropout = dropout\n",
    "\n",
    "    def forward(self, data):\n",
    "        x, edge_index = data.x, data.edge_index\n",
    "\n",
    "        x = self.conv1(x, edge_index)\n",
    "        x = self.bn1(x)\n",
    "        x = F.relu(x)\n",
    "        x = F.dropout(x, p=self.dropout, training=self.training)\n",
    "\n",
    "        x = self.conv2(x, edge_index)\n",
    "        x = self.bn2(x)\n",
    "        x = F.relu(x)\n",
    "        x = F.dropout(x, p=self.dropout, training=self.training)\n",
    "\n",
    "        x = self.conv3(x, edge_index)\n",
    "        x = self.bn3(x)\n",
    "        x = F.relu(x)\n",
    "        x = F.dropout(x, p=self.dropout, training=self.training)\n",
    "\n",
    "        x = self.conv4(x, edge_index)  \n",
    "\n",
    "        return x  "
   ]
  },
  {
   "cell_type": "code",
   "execution_count": 69,
   "metadata": {},
   "outputs": [],
   "source": [
    "device = torch.device(\"cuda\" if torch.cuda.is_available() else \"cpu\")\n",
    "\n",
    "model = DeepGCN(in_channels=X_train.shape[1], dropout=0.3).to(device)\n",
    "graph_data = graph_data.to(device)\n",
    "\n",
    "optimizer = torch.optim.Adam(model.parameters(), lr=0.01, weight_decay=5e-4)\n",
    "loss_function = torch.nn.CrossEntropyLoss()"
   ]
  },
  {
   "cell_type": "code",
   "execution_count": 70,
   "metadata": {},
   "outputs": [
    {
     "name": "stdout",
     "output_type": "stream",
     "text": [
      "Epoch 0, Loss: 0.6475\n",
      "Epoch 5, Loss: 0.4747\n",
      "Epoch 10, Loss: 0.4545\n",
      "Epoch 15, Loss: 0.4412\n",
      "Epoch 20, Loss: 0.4260\n",
      "Epoch 25, Loss: 0.4171\n",
      "Epoch 30, Loss: 0.4088\n",
      "Epoch 35, Loss: 0.4029\n",
      "Epoch 40, Loss: 0.3960\n",
      "Epoch 45, Loss: 0.3910\n",
      "Epoch 50, Loss: 0.3881\n",
      "Epoch 55, Loss: 0.3867\n",
      "Training complete!\n"
     ]
    },
    {
     "data": {
      "image/png": "[encoded data removed]",
      "text/plain": [
       "<Figure size 640x480 with 1 Axes>"
      ]
     },
     "metadata": {},
     "output_type": "display_data"
    }
   ],
   "source": [
    "import matplotlib.pyplot as plt\n",
    "\n",
    "loss_values = []\n",
    "\n",
    "def train():\n",
    "    model.train()\n",
    "    optimizer.zero_grad()\n",
    "    \n",
    "    out = model(graph_data)\n",
    "    loss = loss_function(out, graph_data.y)\n",
    "    \n",
    "    loss.backward()\n",
    "    optimizer.step()\n",
    "    \n",
    "    return loss.item()\n",
    "\n",
    "epochs = 60\n",
    "for epoch in range(epochs):\n",
    "    loss = train()\n",
    "    loss_values.append(loss)\n",
    "    \n",
    "    if epoch % 5 == 0:\n",
    "        print(f\"Epoch {epoch}, Loss: {loss:.4f}\")\n",
    "\n",
    "print(\"Training complete!\")\n",
    "\n",
    "plt.plot(range(epochs), loss_values, marker='o', linestyle='-')\n",
    "plt.xlabel(\"Epoch\")\n",
    "plt.ylabel(\"Loss\")\n",
    "plt.title(\"Training Loss Curve\")\n",
    "plt.grid()\n",
    "plt.show()\n"
   ]
  },
  {
   "cell_type": "markdown",
   "metadata": {},
   "source": [
    "GraphSAGE implementation - "
   ]
  },
  {
   "cell_type": "code",
   "execution_count": 40,
   "metadata": {},
   "outputs": [],
   "source": [
    "import torch\n",
    "import torch.nn.functional as F\n",
    "from torch_geometric.nn import SAGEConv\n",
    "from sklearn.metrics import accuracy_score\n",
    "import itertools"
   ]
  },
  {
   "cell_type": "code",
   "execution_count": 41,
   "metadata": {},
   "outputs": [],
   "source": [
    "class GraphSAGE(torch.nn.Module):\n",
    "    def __init__(self, in_channels, hidden_channels, out_channels, dropout):\n",
    "        super(GraphSAGE, self).__init__()\n",
    "        self.conv1 = SAGEConv(in_channels, hidden_channels)\n",
    "        self.conv2 = SAGEConv(hidden_channels, hidden_channels)\n",
    "        self.conv3 = SAGEConv(hidden_channels, out_channels)\n",
    "        self.dropout = dropout\n",
    "\n",
    "    def forward(self, data):\n",
    "        x, edge_index = data.x, data.edge_index\n",
    "        x = self.conv1(x, edge_index)\n",
    "        x = F.relu(x)\n",
    "        x = F.dropout(x, p=self.dropout, training=self.training)\n",
    "        \n",
    "        x = self.conv2(x, edge_index)\n",
    "        x = F.relu(x)\n",
    "        x = F.dropout(x, p=self.dropout, training=self.training)\n",
    "        \n",
    "        x = self.conv3(x, edge_index)  \n",
    "        return F.log_softmax(x, dim=1)"
   ]
  },
  {
   "cell_type": "code",
   "execution_count": 42,
   "metadata": {},
   "outputs": [],
   "source": [
    "# function to train model with defined parameters\n",
    "def train(model, graph_data, optimizer, loss_function, epochs=30):\n",
    "    model.train()\n",
    "    for epoch in range(epochs):\n",
    "        optimizer.zero_grad()\n",
    "        out = model(graph_data)\n",
    "        loss = loss_function(out, graph_data.y)\n",
    "        loss.backward()\n",
    "        optimizer.step()\n",
    "    return loss.item()\n",
    "\n",
    "# function to evaluate the model against graph of test data\n",
    "def evaluate(model, graph_data_test):\n",
    "    model.eval()\n",
    "    with torch.no_grad():\n",
    "        out = model(graph_data_test)\n",
    "        pred = out.argmax(dim=1).cpu().numpy()\n",
    "        y_true = graph_data_test.y.cpu().numpy()\n",
    "        accuracy = accuracy_score(y_true, pred)\n",
    "    return accuracy"
   ]
  },
  {
   "cell_type": "markdown",
   "metadata": {},
   "source": [
    "Defining GridSearchCV to attain the best hyperparameters for model training:"
   ]
  },
  {
   "cell_type": "code",
   "execution_count": 90,
   "metadata": {},
   "outputs": [
    {
     "name": "stdout",
     "output_type": "stream",
     "text": [
      "Params: Hidden=32, Dropout=0.3, LR=0.01, WD=0.0005 --> Accuracy: 0.7718\n",
      "Params: Hidden=32, Dropout=0.3, LR=0.01, WD=0.001 --> Accuracy: 0.7596\n",
      "Params: Hidden=32, Dropout=0.3, LR=0.001, WD=0.0005 --> Accuracy: 0.7574\n",
      "Params: Hidden=32, Dropout=0.3, LR=0.001, WD=0.001 --> Accuracy: 0.7434\n",
      "Params: Hidden=32, Dropout=0.5, LR=0.01, WD=0.0005 --> Accuracy: 0.7425\n",
      "Params: Hidden=32, Dropout=0.5, LR=0.01, WD=0.001 --> Accuracy: 0.7425\n",
      "Params: Hidden=32, Dropout=0.5, LR=0.001, WD=0.0005 --> Accuracy: 0.7497\n",
      "Params: Hidden=32, Dropout=0.5, LR=0.001, WD=0.001 --> Accuracy: 0.7569\n",
      "Params: Hidden=32, Dropout=0.7, LR=0.01, WD=0.0005 --> Accuracy: 0.7686\n",
      "Params: Hidden=32, Dropout=0.7, LR=0.01, WD=0.001 --> Accuracy: 0.7586\n",
      "Params: Hidden=32, Dropout=0.7, LR=0.001, WD=0.0005 --> Accuracy: 0.7632\n",
      "Params: Hidden=32, Dropout=0.7, LR=0.001, WD=0.001 --> Accuracy: 0.7579\n",
      "Params: Hidden=64, Dropout=0.3, LR=0.01, WD=0.0005 --> Accuracy: 0.7800\n",
      "Params: Hidden=64, Dropout=0.3, LR=0.01, WD=0.001 --> Accuracy: 0.7790\n",
      "Params: Hidden=64, Dropout=0.3, LR=0.001, WD=0.0005 --> Accuracy: 0.6951\n",
      "Params: Hidden=64, Dropout=0.3, LR=0.001, WD=0.001 --> Accuracy: 0.7444\n",
      "Params: Hidden=64, Dropout=0.5, LR=0.01, WD=0.0005 --> Accuracy: 0.7634\n",
      "Params: Hidden=64, Dropout=0.5, LR=0.01, WD=0.001 --> Accuracy: 0.7659\n",
      "Params: Hidden=64, Dropout=0.5, LR=0.001, WD=0.0005 --> Accuracy: 0.7577\n",
      "Params: Hidden=64, Dropout=0.5, LR=0.001, WD=0.001 --> Accuracy: 0.7614\n",
      "Params: Hidden=64, Dropout=0.7, LR=0.01, WD=0.0005 --> Accuracy: 0.7794\n",
      "Params: Hidden=64, Dropout=0.7, LR=0.01, WD=0.001 --> Accuracy: 0.7425\n",
      "Params: Hidden=64, Dropout=0.7, LR=0.001, WD=0.0005 --> Accuracy: 0.7626\n",
      "Params: Hidden=64, Dropout=0.7, LR=0.001, WD=0.001 --> Accuracy: 0.7564\n",
      "Params: Hidden=128, Dropout=0.3, LR=0.01, WD=0.0005 --> Accuracy: 0.7774\n",
      "Params: Hidden=128, Dropout=0.3, LR=0.01, WD=0.001 --> Accuracy: 0.7439\n",
      "Params: Hidden=128, Dropout=0.3, LR=0.001, WD=0.0005 --> Accuracy: 0.7534\n",
      "Params: Hidden=128, Dropout=0.3, LR=0.001, WD=0.001 --> Accuracy: 0.7802\n",
      "Params: Hidden=128, Dropout=0.5, LR=0.01, WD=0.0005 --> Accuracy: 0.7694\n",
      "Params: Hidden=128, Dropout=0.5, LR=0.01, WD=0.001 --> Accuracy: 0.7781\n",
      "Params: Hidden=128, Dropout=0.5, LR=0.001, WD=0.0005 --> Accuracy: 0.7685\n",
      "Params: Hidden=128, Dropout=0.5, LR=0.001, WD=0.001 --> Accuracy: 0.7687\n",
      "Params: Hidden=128, Dropout=0.7, LR=0.01, WD=0.0005 --> Accuracy: 0.7471\n",
      "Params: Hidden=128, Dropout=0.7, LR=0.01, WD=0.001 --> Accuracy: 0.7751\n",
      "Params: Hidden=128, Dropout=0.7, LR=0.001, WD=0.0005 --> Accuracy: 0.7619\n",
      "Params: Hidden=128, Dropout=0.7, LR=0.001, WD=0.001 --> Accuracy: 0.7658\n",
      "\n",
      "Best Parameters: {'hidden_size': 128, 'dropout': 0.3, 'lr': 0.001, 'weight_decay': 0.001}\n",
      "Best Accuracy: 0.78024\n"
     ]
    }
   ],
   "source": [
    "hidden_layer_sizes = [32, 64, 128]\n",
    "dropout_values = [0.3, 0.5, 0.7]\n",
    "learning_rates = [0.01, 0.001]\n",
    "weight_decays = [5e-4, 1e-3]\n",
    "epochs = 30\n",
    "\n",
    "best_accuracy = 0\n",
    "best_params = {}\n",
    "\n",
    "device = torch.device(\"cuda\" if torch.cuda.is_available() else \"cpu\")\n",
    "\n",
    "for hidden_size, dropout, lr, wd in itertools.product(hidden_layer_sizes, dropout_values, learning_rates, weight_decays):\n",
    "    \n",
    "    model = GraphSAGE(in_channels=X_train.shape[1], hidden_channels=hidden_size, \n",
    "                      out_channels=2, dropout=dropout).to(device)\n",
    "    \n",
    "    graph_data = graph_data.to(device)\n",
    "    optimizer = torch.optim.Adam(model.parameters(), lr=lr, weight_decay=wd)\n",
    "    loss_function = torch.nn.CrossEntropyLoss()\n",
    "\n",
    "    train(model, graph_data, optimizer, loss_function, epochs)\n",
    "\n",
    "    accuracy = evaluate(model, graph_data_test)\n",
    "\n",
    "    print(f\"Params: Hidden={hidden_size}, Dropout={dropout}, LR={lr}, WD={wd} --> Accuracy: {accuracy:.4f}\")\n",
    "\n",
    "    if accuracy > best_accuracy:\n",
    "        best_accuracy = accuracy\n",
    "        best_params = {'hidden_size': hidden_size, 'dropout': dropout, 'lr': lr, 'weight_decay': wd}\n",
    "\n",
    "print(\"\\nBest Parameters:\", best_params)\n",
    "print(\"Best Accuracy:\", best_accuracy)"
   ]
  },
  {
   "cell_type": "code",
   "execution_count": 92,
   "metadata": {},
   "outputs": [],
   "source": [
    "best_model = GraphSAGE(in_channels=X_train.shape[1], hidden_channels=best_params['hidden_size'], \n",
    "                       out_channels=2, dropout=best_params['dropout']).to(device)\n",
    "\n",
    "graph_data = graph_data.to(device)\n",
    "optimizer = torch.optim.Adam(best_model.parameters(), lr=best_params['lr'], weight_decay=best_params['weight_decay'])\n",
    "loss_function = torch.nn.CrossEntropyLoss()"
   ]
  },
  {
   "cell_type": "code",
   "execution_count": 93,
   "metadata": {},
   "outputs": [
    {
     "name": "stdout",
     "output_type": "stream",
     "text": [
      "Epoch 0, Loss: 0.5311\n",
      "Epoch 5, Loss: 0.3707\n",
      "Epoch 10, Loss: 0.3332\n",
      "Epoch 15, Loss: 0.3114\n",
      "Epoch 20, Loss: 0.2982\n",
      "Epoch 25, Loss: 0.2889\n",
      "Epoch 30, Loss: 0.2805\n",
      "Epoch 35, Loss: 0.2758\n",
      "Epoch 40, Loss: 0.2714\n",
      "Epoch 45, Loss: 0.2702\n",
      "Epoch 50, Loss: 0.2653\n",
      "Epoch 55, Loss: 0.2684\n",
      "Training complete!\n"
     ]
    },
    {
     "data": {
      "image/png": "[encoded data removed]",
      "text/plain": [
       "<Figure size 640x480 with 1 Axes>"
      ]
     },
     "metadata": {},
     "output_type": "display_data"
    },
    {
     "name": "stdout",
     "output_type": "stream",
     "text": [
      "Final Model Accuracy: 0.9015\n"
     ]
    }
   ],
   "source": [
    "epochs = 60\n",
    "loss_values = []\n",
    "\n",
    "for epoch in range(epochs):\n",
    "    loss = train(best_model, graph_data, optimizer, loss_function)\n",
    "    loss_values.append(loss)\n",
    "    \n",
    "    if epoch % 5 == 0:\n",
    "        print(f\"Epoch {epoch}, Loss: {loss:.4f}\")\n",
    "\n",
    "print(\"Training complete!\")\n",
    "\n",
    "plt.plot(range(epochs), loss_values, marker='o', linestyle='-')\n",
    "plt.xlabel(\"Epoch\")\n",
    "plt.ylabel(\"Loss\")\n",
    "plt.title(\"GraphSAGE Training Loss Curve\")\n",
    "plt.grid()\n",
    "plt.show()\n",
    "\n",
    "final_accuracy = evaluate(best_model, graph_data_test)\n",
    "print(f\"Final Model Accuracy: {final_accuracy:.4f}\")"
   ]
  },
  {
   "cell_type": "markdown",
   "metadata": {},
   "source": [
    "Testing the trained model and finding accuracy:"
   ]
  },
  {
   "cell_type": "markdown",
   "metadata": {},
   "source": [
    "Implementing same logic on test_set ->"
   ]
  },
  {
   "cell_type": "code",
   "execution_count": 94,
   "metadata": {},
   "outputs": [],
   "source": [
    "from sklearn.neighbors import NearestNeighbors\n",
    "\n",
    "X_test = test_set.iloc[:, :-1].values  \n",
    "y_test = test_set.iloc[:, -1].values   \n",
    "\n",
    "knn = NearestNeighbors(n_neighbors=5, metric=\"minkowski\", p=2)\n",
    "knn.fit(X_test)\n",
    "_, test_indices = knn.kneighbors(X_test)\n",
    "\n",
    "\n",
    "test_edge_index = []\n",
    "for i in range(len(X_test)):\n",
    "    for j in test_indices[i]:\n",
    "        test_edge_index.append([i, j])\n",
    "\n",
    "\n",
    "test_edge_index = torch.tensor(test_edge_index, dtype=torch.long).t().contiguous()"
   ]
  },
  {
   "cell_type": "code",
   "execution_count": 95,
   "metadata": {},
   "outputs": [],
   "source": [
    "graph_data_test = Data(\n",
    "    x=torch.tensor(X_test, dtype=torch.float).to(device),\n",
    "    edge_index=test_edge_index.to(device),\n",
    "    y=torch.tensor(y_test, dtype=torch.long).to(device)\n",
    ")"
   ]
  },
  {
   "cell_type": "code",
   "execution_count": 96,
   "metadata": {},
   "outputs": [
    {
     "name": "stdout",
     "output_type": "stream",
     "text": [
      "Test Accuracy: 0.9039\n",
      "Test F1-Score: 0.9011\n",
      "Test Precision: 0.9022\n",
      "Test Recall: 0.9039\n",
      "Test MAE: 0.0961\n"
     ]
    }
   ],
   "source": [
    "from sklearn.metrics import accuracy_score, f1_score, precision_score, recall_score, mean_absolute_error\n",
    "\n",
    "def evaluate(model, data):\n",
    "    model.eval()\n",
    "    with torch.no_grad():\n",
    "        out = model(data)\n",
    "        preds = out.argmax(dim=1).cpu().numpy()\n",
    "        true_labels = data.y.cpu().numpy()\n",
    "\n",
    "        acc = accuracy_score(true_labels, preds)\n",
    "        f1 = f1_score(true_labels, preds, average=\"weighted\")\n",
    "        precision = precision_score(true_labels, preds, average=\"weighted\")\n",
    "        recall = recall_score(true_labels, preds, average=\"weighted\")\n",
    "        mae = mean_absolute_error(true_labels, preds)\n",
    "\n",
    "    return acc, f1, precision, recall, mae\n",
    "\n",
    "graph_data_test = graph_data_test.to(device)\n",
    "test_acc, test_f1, test_precision, test_recall, test_mae = evaluate(best_model, graph_data_test)\n",
    "\n",
    "print(f\"Test Accuracy: {test_acc:.4f}\")\n",
    "print(f\"Test F1-Score: {test_f1:.4f}\")\n",
    "print(f\"Test Precision: {test_precision:.4f}\")\n",
    "print(f\"Test Recall: {test_recall:.4f}\")\n",
    "print(f\"Test MAE: {test_mae:.4f}\")\n"
   ]
  },
  {
   "cell_type": "markdown",
   "metadata": {},
   "source": [
    "DeepGCN:\n",
    "1. Log: Accuracy - 83.29%; F1 Score - 0.8193 (64, 128, 32; dropout: 0.5)\n",
    "2. Log: Accuracy - 80.03%; F1 Score - 0.7687 (128,256,64; dropout: 0.3)\n",
    "\n",
    "GraphSAGE:\n",
    "1. Log: Accuracy - 82.90%; F1 Score - 8212 (hidden_channels = 62, dropout = 0.5, learning rate = 0.01, 2 layers - relu, relu and softmax)\n",
    "2. Log: Accuracy - 90.39%; F1 Score - 0.9011 (GridSearchCV Implementation for hyperparams)"
   ]
  },
  {
   "cell_type": "code",
   "execution_count": 97,
   "metadata": {},
   "outputs": [
    {
     "name": "stdout",
     "output_type": "stream",
     "text": [
      "Model saved successfully!\n"
     ]
    }
   ],
   "source": [
    "# saving GraphSAGE model with Grid Search CV hyperparameters\n",
    "torch.save(best_model.state_dict(), \"graphsage_model.pth\")\n",
    "print(\"Model saved successfully!\")"
   ]
  },
  {
   "cell_type": "markdown",
   "metadata": {},
   "source": [
    "Using the model:"
   ]
  },
  {
   "cell_type": "code",
   "execution_count": 43,
   "metadata": {},
   "outputs": [
    {
     "ename": "NameError",
     "evalue": "name 'best_params' is not defined",
     "output_type": "error",
     "traceback": [
      "\u001b[1;31m---------------------------------------------------------------------------\u001b[0m",
      "\u001b[1;31mNameError\u001b[0m                                 Traceback (most recent call last)",
      "Cell \u001b[1;32mIn[43], line 2\u001b[0m\n\u001b[0;32m      1\u001b[0m loaded_model \u001b[38;5;241m=\u001b[39m GraphSAGE(in_channels\u001b[38;5;241m=\u001b[39mX_train\u001b[38;5;241m.\u001b[39mshape[\u001b[38;5;241m1\u001b[39m], \n\u001b[1;32m----> 2\u001b[0m                          hidden_channels\u001b[38;5;241m=\u001b[39m\u001b[43mbest_params\u001b[49m[\u001b[38;5;124m'\u001b[39m\u001b[38;5;124mhidden_size\u001b[39m\u001b[38;5;124m'\u001b[39m], \n\u001b[0;32m      3\u001b[0m                          out_channels\u001b[38;5;241m=\u001b[39m\u001b[38;5;241m2\u001b[39m, \n\u001b[0;32m      4\u001b[0m                          dropout\u001b[38;5;241m=\u001b[39mbest_params[\u001b[38;5;124m'\u001b[39m\u001b[38;5;124mdropout\u001b[39m\u001b[38;5;124m'\u001b[39m])\u001b[38;5;241m.\u001b[39mto(device)\n\u001b[0;32m      6\u001b[0m loaded_model\u001b[38;5;241m.\u001b[39mload_state_dict(torch\u001b[38;5;241m.\u001b[39mload(\u001b[38;5;124m\"\u001b[39m\u001b[38;5;124mgraphsage_model.pth\u001b[39m\u001b[38;5;124m\"\u001b[39m, map_location\u001b[38;5;241m=\u001b[39mdevice))\n\u001b[0;32m      7\u001b[0m loaded_model\u001b[38;5;241m.\u001b[39meval()  \n",
      "\u001b[1;31mNameError\u001b[0m: name 'best_params' is not defined"
     ]
    }
   ],
   "source": [
    "loaded_model = GraphSAGE(in_channels=X_train.shape[1], \n",
    "                         hidden_channels=best_params['hidden_size'], \n",
    "                         out_channels=2, \n",
    "                         dropout=best_params['dropout']).to(device)\n",
    "\n",
    "loaded_model.load_state_dict(torch.load(\"graphsage_model.pth\", map_location=device))\n",
    "loaded_model.eval()  \n",
    "print(\"Model loaded successfully!\")"
   ]
  },
  {
   "cell_type": "code",
   "execution_count": null,
   "metadata": {},
   "outputs": [],
   "source": []
  }
 ],
 "metadata": {
  "kernelspec": {
   "display_name": "Python 3",
   "language": "python",
   "name": "python3"
  },
  "language_info": {
   "codemirror_mode": {
    "name": "ipython",
    "version": 3
   },
   "file_extension": ".py",
   "mimetype": "text/x-python",
   "name": "python",
   "nbconvert_exporter": "python",
   "pygments_lexer": "ipython3",
   "version": "3.11.0"
  }
 },
 "nbformat": 4,
 "nbformat_minor": 2
}
